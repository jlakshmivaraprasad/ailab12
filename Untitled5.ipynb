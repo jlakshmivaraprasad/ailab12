{
 "cells": [
  {
   "cell_type": "code",
   "execution_count": 1,
   "id": "2870d8ca-310f-4769-b2a3-ad505b3dc3ca",
   "metadata": {},
   "outputs": [
    {
     "name": "stdout",
     "output_type": "stream",
     "text": [
      "Steps to reach target:\n",
      "(0, 0)\n",
      "(0, 3)\n",
      "(3, 0)\n",
      "(3, 3)\n",
      "(4, 2)\n"
     ]
    }
   ],
   "source": [
    "from collections import deque\n",
    "\n",
    "def water_jug_bfs(jug1, jug2, target):\n",
    "    visited = set()\n",
    "    parent = {}\n",
    "    q = deque()\n",
    "    q.append((0, 0))\n",
    "    parent[(0, 0)] = None  # Use Python's None (not lowercase)\n",
    "\n",
    "    while q:\n",
    "        x, y = q.popleft()\n",
    "\n",
    "        if (x, y) in visited:\n",
    "            continue\n",
    "        visited.add((x, y))\n",
    "\n",
    "        if x == target or y == target:\n",
    "            path = []\n",
    "            while True:\n",
    "                path.append((x, y))\n",
    "                if parent[(x, y)] is None:\n",
    "                    break\n",
    "                x, y = parent[(x, y)]\n",
    "            return path[::-1]  # Reverse to show steps from start to goal\n",
    "\n",
    "        # Generate all possible next states\n",
    "        next_states = [\n",
    "            (jug1, y),  # Fill Jug1\n",
    "            (x, jug2),  # Fill Jug2\n",
    "            (0, y),     # Empty Jug1\n",
    "            (x, 0),     # Empty Jug2\n",
    "            # Pour Jug1 -> Jug2\n",
    "            (x - min(x, jug2 - y), y + min(x, jug2 - y)),\n",
    "            # Pour Jug2 -> Jug1\n",
    "            (x + min(y, jug1 - x), y - min(y, jug1 - x))\n",
    "        ]\n",
    "\n",
    "        for state in next_states:\n",
    "            if state not in visited and state not in parent:\n",
    "                q.append(state)\n",
    "                parent[state] = (x, y)\n",
    "\n",
    "    return None  # No solution found\n",
    "\n",
    "# Example usage\n",
    "path = water_jug_bfs(4, 3, 2)\n",
    "if path:\n",
    "    print(\"Steps to reach target:\")\n",
    "    for step in path:\n",
    "        print(step)\n"
   ]
  },
  {
   "cell_type": "code",
   "execution_count": null,
   "id": "875d3bb4-3c89-4bf9-a9f0-e72d154624ac",
   "metadata": {},
   "outputs": [],
   "source": [
    "  "
   ]
  }
 ],
 "metadata": {
  "kernelspec": {
   "display_name": "Python 3 (ipykernel)",
   "language": "python",
   "name": "python3"
  },
  "language_info": {
   "codemirror_mode": {
    "name": "ipython",
    "version": 3
   },
   "file_extension": ".py",
   "mimetype": "text/x-python",
   "name": "python",
   "nbconvert_exporter": "python",
   "pygments_lexer": "ipython3",
   "version": "3.13.5"
  }
 },
 "nbformat": 4,
 "nbformat_minor": 5
}
